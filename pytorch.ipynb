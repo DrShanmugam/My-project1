{
  "nbformat": 4,
  "nbformat_minor": 0,
  "metadata": {
    "colab": {
      "name": "pytorch.ipynb",
      "provenance": [],
      "authorship_tag": "ABX9TyMLdfddBmUNiViWnSU07R66",
      "include_colab_link": true
    },
    "kernelspec": {
      "name": "python3",
      "display_name": "Python 3"
    },
    "language_info": {
      "name": "python"
    }
  },
  "cells": [
    {
      "cell_type": "markdown",
      "metadata": {
        "id": "view-in-github",
        "colab_type": "text"
      },
      "source": [
        "<a href=\"https://colab.research.google.com/github/DrShanmugam/My-project1/blob/main/pytorch.ipynb\" target=\"_parent\"><img src=\"https://colab.research.google.com/assets/colab-badge.svg\" alt=\"Open In Colab\"/></a>"
      ]
    },
    {
      "cell_type": "code",
      "execution_count": 1,
      "metadata": {
        "id": "CCr8asNeZx11"
      },
      "outputs": [],
      "source": [
        "import torch \n",
        "import torch.nn as nn"
      ]
    },
    {
      "cell_type": "code",
      "source": [
        "# Defining input size, hidden layer size, output size and batch size respectively\n",
        "n_in, n_h, n_out, batch_size = 10, 5, 1, 10"
      ],
      "metadata": {
        "id": "XYBP91lNZ5rM"
      },
      "execution_count": null,
      "outputs": []
    },
    {
      "cell_type": "code",
      "source": [
        "# Create dummy input and target tensors (data)\n",
        "x = torch.randn(batch_size, n_in)\n",
        "y = torch.tensor([[1.0], [0.0], [0.0], \n",
        "[1.0], [1.0], [1.0], [0.0], [0.0], [1.0], [1.0]])"
      ],
      "metadata": {
        "id": "u4oEphBQZ_gS"
      },
      "execution_count": null,
      "outputs": []
    },
    {
      "cell_type": "code",
      "source": [
        "# Create a model\n",
        "model = nn.Sequential(nn.Linear(n_in, n_h),\n",
        "   nn.ReLU(),\n",
        "   nn.Linear(n_h, n_out),\n",
        "   nn.Sigmoid())"
      ],
      "metadata": {
        "id": "9G4AOd6vaIrP"
      },
      "execution_count": null,
      "outputs": []
    },
    {
      "cell_type": "code",
      "source": [
        "# Construct the loss function\n",
        "criterion = torch.nn.MSELoss()\n",
        "# Construct the optimizer (Stochastic Gradient Descent in this case)\n",
        "optimizer = torch.optim.SGD(model.parameters(), lr = 0.01)"
      ],
      "metadata": {
        "id": "2rz_Gc6ebVne"
      },
      "execution_count": null,
      "outputs": []
    },
    {
      "cell_type": "code",
      "source": [
        "# Gradient Descent\n",
        "for epoch in range(50):\n",
        "   # Forward pass: Compute predicted y by passing x to the model\n",
        "   y_pred = model(x)\n",
        "\n",
        "   # Compute and print loss\n",
        "   loss = criterion(y_pred, y)\n",
        "   print('epoch: ', epoch,' loss: ', loss.item())\n",
        "\n",
        "   # Zero gradients, perform a backward pass, and update the weights.\n",
        "   optimizer.zero_grad()\n",
        "\n",
        "   # perform a backward pass (backpropagation)\n",
        "   loss.backward()\n",
        "\n",
        "   # Update the parameters\n",
        "   optimizer.step()"
      ],
      "metadata": {
        "colab": {
          "base_uri": "https://localhost:8080/"
        },
        "id": "3rcSCpNGbfaZ",
        "outputId": "56713529-f01b-45b5-e407-92dc780661a4"
      },
      "execution_count": null,
      "outputs": [
        {
          "output_type": "stream",
          "name": "stdout",
          "text": [
            "epoch:  0  loss:  0.24627164006233215\n",
            "epoch:  1  loss:  0.24616281688213348\n",
            "epoch:  2  loss:  0.24605414271354675\n",
            "epoch:  3  loss:  0.245945543050766\n",
            "epoch:  4  loss:  0.24583706259727478\n",
            "epoch:  5  loss:  0.24572868645191193\n",
            "epoch:  6  loss:  0.24562039971351624\n",
            "epoch:  7  loss:  0.24551215767860413\n",
            "epoch:  8  loss:  0.24540407955646515\n",
            "epoch:  9  loss:  0.24529603123664856\n",
            "epoch:  10  loss:  0.24518804252147675\n",
            "epoch:  11  loss:  0.24508020281791687\n",
            "epoch:  12  loss:  0.24497243762016296\n",
            "epoch:  13  loss:  0.24486474692821503\n",
            "epoch:  14  loss:  0.24475714564323425\n",
            "epoch:  15  loss:  0.24464960396289825\n",
            "epoch:  16  loss:  0.24454212188720703\n",
            "epoch:  17  loss:  0.24443478882312775\n",
            "epoch:  18  loss:  0.24432745575904846\n",
            "epoch:  19  loss:  0.24422022700309753\n",
            "epoch:  20  loss:  0.24411311745643616\n",
            "epoch:  21  loss:  0.24400600790977478\n",
            "epoch:  22  loss:  0.24389903247356415\n",
            "epoch:  23  loss:  0.2437920868396759\n",
            "epoch:  24  loss:  0.24368517100811005\n",
            "epoch:  25  loss:  0.24357834458351135\n",
            "epoch:  26  loss:  0.24347159266471863\n",
            "epoch:  27  loss:  0.24336493015289307\n",
            "epoch:  28  loss:  0.2432582825422287\n",
            "epoch:  29  loss:  0.2431517094373703\n",
            "epoch:  30  loss:  0.24304521083831787\n",
            "epoch:  31  loss:  0.24293872714042664\n",
            "epoch:  32  loss:  0.24283233284950256\n",
            "epoch:  33  loss:  0.24272599816322327\n",
            "epoch:  34  loss:  0.24261970818042755\n",
            "epoch:  35  loss:  0.24251341819763184\n",
            "epoch:  36  loss:  0.24240723252296448\n",
            "epoch:  37  loss:  0.2423010617494583\n",
            "epoch:  38  loss:  0.24219496548175812\n",
            "epoch:  39  loss:  0.24208888411521912\n",
            "epoch:  40  loss:  0.2419828474521637\n",
            "epoch:  41  loss:  0.24187688529491425\n",
            "epoch:  42  loss:  0.2417709082365036\n",
            "epoch:  43  loss:  0.2416650354862213\n",
            "epoch:  44  loss:  0.24155917763710022\n",
            "epoch:  45  loss:  0.24145331978797913\n",
            "epoch:  46  loss:  0.2413475066423416\n",
            "epoch:  47  loss:  0.24124173820018768\n",
            "epoch:  48  loss:  0.24113599956035614\n",
            "epoch:  49  loss:  0.24103030562400818\n"
          ]
        }
      ]
    },
    {
      "cell_type": "code",
      "source": [
        ""
      ],
      "metadata": {
        "id": "H76lCZKCbmcz"
      },
      "execution_count": null,
      "outputs": []
    }
  ]
}